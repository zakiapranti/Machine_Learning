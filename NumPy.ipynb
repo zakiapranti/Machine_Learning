{
  "nbformat": 4,
  "nbformat_minor": 0,
  "metadata": {
    "colab": {
      "provenance": [],
      "authorship_tag": "ABX9TyNJxYFRKpPvy/pwIWTaH40H",
      "include_colab_link": true
    },
    "kernelspec": {
      "name": "python3",
      "display_name": "Python 3"
    },
    "language_info": {
      "name": "python"
    }
  },
  "cells": [
    {
      "cell_type": "markdown",
      "metadata": {
        "id": "view-in-github",
        "colab_type": "text"
      },
      "source": [
        "<a href=\"https://colab.research.google.com/github/zakiapranti/Machine_Learning/blob/main/NumPy.ipynb\" target=\"_parent\"><img src=\"https://colab.research.google.com/assets/colab-badge.svg\" alt=\"Open In Colab\"/></a>"
      ]
    },
    {
      "cell_type": "markdown",
      "source": [
        "**Example**"
      ],
      "metadata": {
        "id": "lw4YL9qSEylB"
      }
    },
    {
      "cell_type": "code",
      "execution_count": 84,
      "metadata": {
        "id": "k07LB8RmEl12"
      },
      "outputs": [],
      "source": [
        "import numpy as np"
      ]
    },
    {
      "cell_type": "code",
      "source": [
        "a=np.arange(15).reshape(3,5) #0 theke 14 obdi digits niye  3x5 matrix\n",
        "b=np.array([6,7,8])"
      ],
      "metadata": {
        "id": "WPnzkpAwFEqv"
      },
      "execution_count": 85,
      "outputs": []
    },
    {
      "cell_type": "code",
      "source": [
        "a\n"
      ],
      "metadata": {
        "colab": {
          "base_uri": "https://localhost:8080/"
        },
        "id": "j6VHzCWPFGGg",
        "outputId": "a1727676-7321-401a-a186-c8087d244650"
      },
      "execution_count": 86,
      "outputs": [
        {
          "output_type": "execute_result",
          "data": {
            "text/plain": [
              "array([[ 0,  1,  2,  3,  4],\n",
              "       [ 5,  6,  7,  8,  9],\n",
              "       [10, 11, 12, 13, 14]])"
            ]
          },
          "metadata": {},
          "execution_count": 86
        }
      ]
    },
    {
      "cell_type": "code",
      "source": [
        "b"
      ],
      "metadata": {
        "colab": {
          "base_uri": "https://localhost:8080/"
        },
        "id": "O_oLACJZG3oK",
        "outputId": "a8458ba8-b459-4351-f1ea-b154d5712f36"
      },
      "execution_count": null,
      "outputs": [
        {
          "output_type": "execute_result",
          "data": {
            "text/plain": [
              "array([6, 7, 8])"
            ]
          },
          "metadata": {},
          "execution_count": 14
        }
      ]
    },
    {
      "cell_type": "code",
      "source": [
        "a.shape\n"
      ],
      "metadata": {
        "colab": {
          "base_uri": "https://localhost:8080/"
        },
        "id": "HNHC-nZWFYI6",
        "outputId": "2c02e46c-48da-4a1e-c195-4b1bc0ba2277"
      },
      "execution_count": null,
      "outputs": [
        {
          "output_type": "execute_result",
          "data": {
            "text/plain": [
              "(3, 5)"
            ]
          },
          "metadata": {},
          "execution_count": 17
        }
      ]
    },
    {
      "cell_type": "code",
      "source": [
        "b.shape"
      ],
      "metadata": {
        "colab": {
          "base_uri": "https://localhost:8080/"
        },
        "id": "lxVd5w1nG_se",
        "outputId": "b642b3f5-3175-4d71-b394-fefaf881e89b"
      },
      "execution_count": null,
      "outputs": [
        {
          "output_type": "execute_result",
          "data": {
            "text/plain": [
              "(3,)"
            ]
          },
          "metadata": {},
          "execution_count": 18
        }
      ]
    },
    {
      "cell_type": "code",
      "source": [
        "a.ndim"
      ],
      "metadata": {
        "colab": {
          "base_uri": "https://localhost:8080/"
        },
        "id": "7UHReB_XFagc",
        "outputId": "c54b3b52-c475-410d-9a7a-47c3cdb0a5f0"
      },
      "execution_count": null,
      "outputs": [
        {
          "output_type": "execute_result",
          "data": {
            "text/plain": [
              "2"
            ]
          },
          "metadata": {},
          "execution_count": 5
        }
      ]
    },
    {
      "cell_type": "code",
      "source": [
        "b.ndim"
      ],
      "metadata": {
        "colab": {
          "base_uri": "https://localhost:8080/"
        },
        "id": "7gO_bJeWHDPB",
        "outputId": "3d805b39-ba89-4711-b63a-0c2b250953ff"
      },
      "execution_count": null,
      "outputs": [
        {
          "output_type": "execute_result",
          "data": {
            "text/plain": [
              "1"
            ]
          },
          "metadata": {},
          "execution_count": 19
        }
      ]
    },
    {
      "cell_type": "code",
      "source": [
        "a.dtype.name\n",
        "#a.dtype=same thing"
      ],
      "metadata": {
        "colab": {
          "base_uri": "https://localhost:8080/",
          "height": 35
        },
        "id": "0ZKlurhpFg3x",
        "outputId": "d54696a7-5dd5-483b-e7c8-78b24f8966a9"
      },
      "execution_count": null,
      "outputs": [
        {
          "output_type": "execute_result",
          "data": {
            "text/plain": [
              "'int64'"
            ],
            "application/vnd.google.colaboratory.intrinsic+json": {
              "type": "string"
            }
          },
          "metadata": {},
          "execution_count": 8
        }
      ]
    },
    {
      "cell_type": "code",
      "source": [
        "b.dtype.name"
      ],
      "metadata": {
        "colab": {
          "base_uri": "https://localhost:8080/",
          "height": 35
        },
        "id": "KIwI8A6bHILF",
        "outputId": "b5e45a8b-4082-4f21-c46f-d08eb18d01e8"
      },
      "execution_count": null,
      "outputs": [
        {
          "output_type": "execute_result",
          "data": {
            "text/plain": [
              "'int64'"
            ],
            "application/vnd.google.colaboratory.intrinsic+json": {
              "type": "string"
            }
          },
          "metadata": {},
          "execution_count": 20
        }
      ]
    },
    {
      "cell_type": "code",
      "source": [
        "a.itemsize"
      ],
      "metadata": {
        "colab": {
          "base_uri": "https://localhost:8080/"
        },
        "id": "w5hv6WK7F53w",
        "outputId": "c6ce16a4-ca90-453e-8e58-b5448b4f4f51"
      },
      "execution_count": null,
      "outputs": [
        {
          "output_type": "execute_result",
          "data": {
            "text/plain": [
              "8"
            ]
          },
          "metadata": {},
          "execution_count": 9
        }
      ]
    },
    {
      "cell_type": "code",
      "source": [
        "a.size"
      ],
      "metadata": {
        "colab": {
          "base_uri": "https://localhost:8080/"
        },
        "id": "1bREkBkKGFE8",
        "outputId": "80e10f5e-758b-4f87-f68f-b62f09a5e069"
      },
      "execution_count": null,
      "outputs": [
        {
          "output_type": "execute_result",
          "data": {
            "text/plain": [
              "15"
            ]
          },
          "metadata": {},
          "execution_count": 10
        }
      ]
    },
    {
      "cell_type": "code",
      "source": [
        "b.size"
      ],
      "metadata": {
        "colab": {
          "base_uri": "https://localhost:8080/"
        },
        "id": "ltaoscrBHNRV",
        "outputId": "2d2b35d9-1987-4bd7-ba68-dee9c52b71eb"
      },
      "execution_count": null,
      "outputs": [
        {
          "output_type": "execute_result",
          "data": {
            "text/plain": [
              "3"
            ]
          },
          "metadata": {},
          "execution_count": 21
        }
      ]
    },
    {
      "cell_type": "code",
      "source": [
        "type(a)"
      ],
      "metadata": {
        "colab": {
          "base_uri": "https://localhost:8080/"
        },
        "id": "_rUWqMFSGKgN",
        "outputId": "afc67567-d8d7-403a-fcd9-0224a5e02bde"
      },
      "execution_count": null,
      "outputs": [
        {
          "output_type": "execute_result",
          "data": {
            "text/plain": [
              "numpy.ndarray"
            ]
          },
          "metadata": {},
          "execution_count": 11
        }
      ]
    },
    {
      "cell_type": "code",
      "source": [
        "type (b)"
      ],
      "metadata": {
        "colab": {
          "base_uri": "https://localhost:8080/"
        },
        "id": "4NSZMw2BGvWB",
        "outputId": "9dacf1b0-b8fc-433b-8b46-02375ac353d5"
      },
      "execution_count": null,
      "outputs": [
        {
          "output_type": "execute_result",
          "data": {
            "text/plain": [
              "numpy.ndarray"
            ]
          },
          "metadata": {},
          "execution_count": 13
        }
      ]
    },
    {
      "cell_type": "markdown",
      "source": [
        "**Array** **Creation**"
      ],
      "metadata": {
        "id": "92RNVuWsJOP0"
      }
    },
    {
      "cell_type": "code",
      "source": [
        "import numpy as np\n",
        "a=np.array([2,3,4])"
      ],
      "metadata": {
        "id": "e5v1xvysJb2I"
      },
      "execution_count": 2,
      "outputs": []
    },
    {
      "cell_type": "code",
      "source": [
        "a\n"
      ],
      "metadata": {
        "colab": {
          "base_uri": "https://localhost:8080/"
        },
        "id": "ok3e0gClJ9Lz",
        "outputId": "2e9d9225-2ec7-439b-cbb0-2ac84968bbb8"
      },
      "execution_count": null,
      "outputs": [
        {
          "output_type": "execute_result",
          "data": {
            "text/plain": [
              "array([2, 3, 4])"
            ]
          },
          "metadata": {},
          "execution_count": 25
        }
      ]
    },
    {
      "cell_type": "code",
      "source": [
        "a.dtype"
      ],
      "metadata": {
        "colab": {
          "base_uri": "https://localhost:8080/"
        },
        "id": "R724a8WnKCmD",
        "outputId": "544d8f5c-5629-4fb9-ea32-29dd7f0d878d"
      },
      "execution_count": null,
      "outputs": [
        {
          "output_type": "execute_result",
          "data": {
            "text/plain": [
              "dtype('int64')"
            ]
          },
          "metadata": {},
          "execution_count": 26
        }
      ]
    },
    {
      "cell_type": "code",
      "source": [
        "b=np.array([1.2,3.5,6.7])"
      ],
      "metadata": {
        "id": "jujcGV14KJX7"
      },
      "execution_count": null,
      "outputs": []
    },
    {
      "cell_type": "code",
      "source": [
        "b.dtype"
      ],
      "metadata": {
        "colab": {
          "base_uri": "https://localhost:8080/"
        },
        "id": "_XmDntvTKOyF",
        "outputId": "8e5ae752-89df-4a1a-c027-d92c4a35d57e"
      },
      "execution_count": null,
      "outputs": [
        {
          "output_type": "execute_result",
          "data": {
            "text/plain": [
              "dtype('float64')"
            ]
          },
          "metadata": {},
          "execution_count": 28
        }
      ]
    },
    {
      "cell_type": "markdown",
      "source": [
        "*A frequent error consists in calling array with multiple arguments, rather than providing a single sequence as an argument.*"
      ],
      "metadata": {
        "id": "DJ8jQRaGLsoq"
      }
    },
    {
      "cell_type": "code",
      "source": [
        "a = np.array([1, 2, 3, 4])  # RIGHT\n",
        "#a = np.array(1, 2, 3, 4)    # WRONG"
      ],
      "metadata": {
        "id": "yBC1Ul5oLqNK"
      },
      "execution_count": null,
      "outputs": []
    },
    {
      "cell_type": "markdown",
      "source": [
        "*array transforms sequences of sequences into two-dimensional arrays,*"
      ],
      "metadata": {
        "id": "nzdEIgQdOveH"
      }
    },
    {
      "cell_type": "code",
      "source": [
        "b= np.array([(1.5,2,3,4),(3,4,5,6),(5,3,4,5.3)]) #2d array\n",
        "#b=np.array([(array1),(array2),(array3)])"
      ],
      "metadata": {
        "id": "xewv0CNrPDke"
      },
      "execution_count": null,
      "outputs": []
    },
    {
      "cell_type": "code",
      "source": [
        "b"
      ],
      "metadata": {
        "colab": {
          "base_uri": "https://localhost:8080/"
        },
        "id": "Emzf-mGPPni9",
        "outputId": "42b01d68-f4bc-4cb4-cd32-c977adc0f847"
      },
      "execution_count": null,
      "outputs": [
        {
          "output_type": "execute_result",
          "data": {
            "text/plain": [
              "array([[1.5, 2. , 3. , 4. ],\n",
              "       [3. , 4. , 5. , 6. ],\n",
              "       [5. , 3. , 4. , 5.3]])"
            ]
          },
          "metadata": {},
          "execution_count": 33
        }
      ]
    },
    {
      "cell_type": "markdown",
      "source": [
        "*The type of the array can also be explicitly specified at creation time*"
      ],
      "metadata": {
        "id": "ygrQpkxOQyWI"
      }
    },
    {
      "cell_type": "code",
      "source": [
        "c=np.array([(1,2),(3,5)],dtype=complex)\n",
        "#can be written by the following way\n",
        "##c=np.array([[1,2],[3,5]],dtype=complex)"
      ],
      "metadata": {
        "id": "tac1wRPJQC0k"
      },
      "execution_count": null,
      "outputs": []
    },
    {
      "cell_type": "code",
      "source": [
        "c\n"
      ],
      "metadata": {
        "colab": {
          "base_uri": "https://localhost:8080/"
        },
        "id": "tPaSmS9yRC7-",
        "outputId": "e80df274-8a92-4b02-d448-d3e2f8d23f3e"
      },
      "execution_count": null,
      "outputs": [
        {
          "output_type": "execute_result",
          "data": {
            "text/plain": [
              "array([[1.+0.j, 2.+0.j],\n",
              "       [3.+0.j, 5.+0.j]])"
            ]
          },
          "metadata": {},
          "execution_count": 37
        }
      ]
    },
    {
      "cell_type": "markdown",
      "source": [
        "**Printing Arrays**"
      ],
      "metadata": {
        "id": "8aIYU8sPN2c_"
      }
    },
    {
      "cell_type": "code",
      "source": [
        "#1D array\n",
        "a=np.arange(6)\n",
        "print(a)"
      ],
      "metadata": {
        "colab": {
          "base_uri": "https://localhost:8080/"
        },
        "id": "FeazyYeoN8wV",
        "outputId": "f75b44b5-54ef-4f59-9cdb-cf291ef8be07"
      },
      "execution_count": 3,
      "outputs": [
        {
          "output_type": "stream",
          "name": "stdout",
          "text": [
            "[0 1 2 3 4 5]\n"
          ]
        }
      ]
    },
    {
      "cell_type": "code",
      "source": [
        "a=np.array([2,3,4,5])\n",
        "a"
      ],
      "metadata": {
        "colab": {
          "base_uri": "https://localhost:8080/"
        },
        "id": "FBT51I4gOSUk",
        "outputId": "7c977d40-bef4-425a-9fa7-1677a89a3e3c"
      },
      "execution_count": 5,
      "outputs": [
        {
          "output_type": "execute_result",
          "data": {
            "text/plain": [
              "array([2, 3, 4, 5])"
            ]
          },
          "metadata": {},
          "execution_count": 5
        }
      ]
    },
    {
      "cell_type": "code",
      "source": [
        "#2D Array\n",
        "b=np.arange(12).reshape(3,4)\n",
        "print(b)"
      ],
      "metadata": {
        "colab": {
          "base_uri": "https://localhost:8080/"
        },
        "id": "AYjgik8dOj8D",
        "outputId": "ee39b3c2-f578-4f9d-c4fc-468a694c7d2f"
      },
      "execution_count": 7,
      "outputs": [
        {
          "output_type": "stream",
          "name": "stdout",
          "text": [
            "[[ 0  1  2  3]\n",
            " [ 4  5  6  7]\n",
            " [ 8  9 10 11]]\n"
          ]
        }
      ]
    },
    {
      "cell_type": "code",
      "source": [
        "#3D ARRAY\n",
        "c=np.arange(24).reshape(2,3,4)\n",
        "print(c)"
      ],
      "metadata": {
        "colab": {
          "base_uri": "https://localhost:8080/"
        },
        "id": "ZH0X12ZpO2uS",
        "outputId": "e8bc0cee-f6cc-4b4c-85d2-a7c1d8b35f0b"
      },
      "execution_count": 8,
      "outputs": [
        {
          "output_type": "stream",
          "name": "stdout",
          "text": [
            "[[[ 0  1  2  3]\n",
            "  [ 4  5  6  7]\n",
            "  [ 8  9 10 11]]\n",
            "\n",
            " [[12 13 14 15]\n",
            "  [16 17 18 19]\n",
            "  [20 21 22 23]]]\n"
          ]
        }
      ]
    },
    {
      "cell_type": "markdown",
      "source": [
        "#SHAPE MANIPULATION\n",
        "#reshape() is used\n"
      ],
      "metadata": {
        "id": "T6-pW6hqRyFU"
      }
    },
    {
      "cell_type": "code",
      "source": [
        "rg = np.random.default_rng(1)\n",
        "  # create instance of default random number generator\n",
        "a=np.floor(10 * rg.random((3,4)))\n",
        "a"
      ],
      "metadata": {
        "colab": {
          "base_uri": "https://localhost:8080/"
        },
        "id": "jy8hyMPSPKr7",
        "outputId": "b0e08c81-0f41-414e-d3eb-addded8e2336"
      },
      "execution_count": 12,
      "outputs": [
        {
          "output_type": "execute_result",
          "data": {
            "text/plain": [
              "array([[5., 9., 1., 9.],\n",
              "       [3., 4., 8., 4.],\n",
              "       [5., 0., 7., 5.]])"
            ]
          },
          "metadata": {},
          "execution_count": 12
        }
      ]
    },
    {
      "cell_type": "code",
      "source": [
        "a.shape"
      ],
      "metadata": {
        "colab": {
          "base_uri": "https://localhost:8080/"
        },
        "id": "wduM13aHSmGJ",
        "outputId": "858b83af-8e9b-4c4d-b233-9332cc4bd463"
      },
      "execution_count": 13,
      "outputs": [
        {
          "output_type": "execute_result",
          "data": {
            "text/plain": [
              "(3, 4)"
            ]
          },
          "metadata": {},
          "execution_count": 13
        }
      ]
    },
    {
      "cell_type": "code",
      "source": [
        "a.T"
      ],
      "metadata": {
        "colab": {
          "base_uri": "https://localhost:8080/"
        },
        "id": "jAW72S6ySonn",
        "outputId": "a18d7c3f-bf0f-42f1-99e5-79721a5a3bca"
      },
      "execution_count": 14,
      "outputs": [
        {
          "output_type": "execute_result",
          "data": {
            "text/plain": [
              "array([[5., 3., 5.],\n",
              "       [9., 4., 0.],\n",
              "       [1., 8., 7.],\n",
              "       [9., 4., 5.]])"
            ]
          },
          "metadata": {},
          "execution_count": 14
        }
      ]
    },
    {
      "cell_type": "code",
      "source": [
        "a.T.shape"
      ],
      "metadata": {
        "colab": {
          "base_uri": "https://localhost:8080/"
        },
        "id": "mwkcxLYwSrc5",
        "outputId": "dc4b8a59-206d-47ae-f577-ea66e388f735"
      },
      "execution_count": 15,
      "outputs": [
        {
          "output_type": "execute_result",
          "data": {
            "text/plain": [
              "(4, 3)"
            ]
          },
          "metadata": {},
          "execution_count": 15
        }
      ]
    },
    {
      "cell_type": "code",
      "source": [
        "a.ravel()"
      ],
      "metadata": {
        "colab": {
          "base_uri": "https://localhost:8080/"
        },
        "id": "ng77tq8QSs7R",
        "outputId": "aa9667ab-b78f-46ff-994e-2a3e307d4d0a"
      },
      "execution_count": 16,
      "outputs": [
        {
          "output_type": "execute_result",
          "data": {
            "text/plain": [
              "array([5., 9., 1., 9., 3., 4., 8., 4., 5., 0., 7., 5.])"
            ]
          },
          "metadata": {},
          "execution_count": 16
        }
      ]
    },
    {
      "cell_type": "code",
      "source": [
        "a.reshape(2,6) #shape modified kore"
      ],
      "metadata": {
        "colab": {
          "base_uri": "https://localhost:8080/"
        },
        "id": "Fa_pQBOTSy98",
        "outputId": "7f68f271-a6d3-42bf-d906-e1287ace21e1"
      },
      "execution_count": 26,
      "outputs": [
        {
          "output_type": "execute_result",
          "data": {
            "text/plain": [
              "array([[5., 9., 1., 9., 3., 4.],\n",
              "       [8., 4., 5., 0., 7., 5.]])"
            ]
          },
          "metadata": {},
          "execution_count": 26
        }
      ]
    },
    {
      "cell_type": "code",
      "source": [
        "a.resize((6,2)) #mainn array ke change kore fele\n",
        "a"
      ],
      "metadata": {
        "colab": {
          "base_uri": "https://localhost:8080/"
        },
        "id": "Y9lDBsA2TIWi",
        "outputId": "cdee33c4-4b2c-4124-871a-467e7f40c254"
      },
      "execution_count": 27,
      "outputs": [
        {
          "output_type": "execute_result",
          "data": {
            "text/plain": [
              "array([[5., 9.],\n",
              "       [1., 9.],\n",
              "       [3., 4.],\n",
              "       [8., 4.],\n",
              "       [5., 0.],\n",
              "       [7., 5.]])"
            ]
          },
          "metadata": {},
          "execution_count": 27
        }
      ]
    },
    {
      "cell_type": "code",
      "source": [
        "a.reshape(3,-1)"
      ],
      "metadata": {
        "colab": {
          "base_uri": "https://localhost:8080/"
        },
        "id": "GJc2v5vnS_pk",
        "outputId": "a534f7aa-ea51-4f1d-b3d6-3bf0f62b53bb"
      },
      "execution_count": 20,
      "outputs": [
        {
          "output_type": "execute_result",
          "data": {
            "text/plain": [
              "array([[5., 9., 1., 9.],\n",
              "       [3., 4., 8., 4.],\n",
              "       [5., 0., 7., 5.]])"
            ]
          },
          "metadata": {},
          "execution_count": 20
        }
      ]
    },
    {
      "cell_type": "code",
      "source": [
        "np.arange(1000)\n",
        "#choto size er array purata print hobe"
      ],
      "metadata": {
        "id": "djg6Up5pUgvv"
      },
      "execution_count": null,
      "outputs": []
    },
    {
      "cell_type": "markdown",
      "source": [],
      "metadata": {
        "id": "TdAgcdxHUk0M"
      }
    },
    {
      "cell_type": "code",
      "source": [
        "np.arange(10000)\n",
        "#size boro hoye gele automatically majher part skip kore\n",
        "#boro size array er only corner parts dekhay"
      ],
      "metadata": {
        "colab": {
          "base_uri": "https://localhost:8080/"
        },
        "id": "-Eb2mlDdUK7x",
        "outputId": "90f1bd69-d7a2-44c4-f446-7520c84be1a0"
      },
      "execution_count": 33,
      "outputs": [
        {
          "output_type": "execute_result",
          "data": {
            "text/plain": [
              "array([   0,    1,    2, ..., 9997, 9998, 9999])"
            ]
          },
          "metadata": {},
          "execution_count": 33
        }
      ]
    },
    {
      "cell_type": "code",
      "source": [
        "print(np.arange(10000).reshape(100,100))"
      ],
      "metadata": {
        "colab": {
          "base_uri": "https://localhost:8080/"
        },
        "id": "NO6qpDJQUy1I",
        "outputId": "54c0f0dd-1366-447c-df43-7a7396fc39d3"
      },
      "execution_count": 34,
      "outputs": [
        {
          "output_type": "stream",
          "name": "stdout",
          "text": [
            "[[   0    1    2 ...   97   98   99]\n",
            " [ 100  101  102 ...  197  198  199]\n",
            " [ 200  201  202 ...  297  298  299]\n",
            " ...\n",
            " [9700 9701 9702 ... 9797 9798 9799]\n",
            " [9800 9801 9802 ... 9897 9898 9899]\n",
            " [9900 9901 9902 ... 9997 9998 9999]]\n"
          ]
        }
      ]
    },
    {
      "cell_type": "markdown",
      "source": [
        "To disable this behaviour and force NumPy to print the entire array, you can change the printing options using **set_printoptions**."
      ],
      "metadata": {
        "id": "0QAw01WIU8Gd"
      }
    },
    {
      "cell_type": "code",
      "source": [
        "from numpy import  sys\n",
        "np.set_printoptions(threshold=sys.maxsize)  # sys module should be imported"
      ],
      "metadata": {
        "id": "-i-G8zV9VAWV"
      },
      "execution_count": 38,
      "outputs": []
    },
    {
      "cell_type": "code",
      "source": [
        "print(np.arange(10000).reshape(100,100))\n",
        "#ei code ekhon runn dile purata matrix dekhbe"
      ],
      "metadata": {
        "id": "O-HQIrKDVb3a"
      },
      "execution_count": null,
      "outputs": []
    },
    {
      "cell_type": "markdown",
      "source": [
        "#array operations"
      ],
      "metadata": {
        "id": "CLvPmev3Xsvi"
      }
    },
    {
      "cell_type": "code",
      "source": [
        "a=np.array([2,3,4,5])\n",
        "b=np.arange(4)\n",
        "c=a-b\n",
        "print(c)"
      ],
      "metadata": {
        "colab": {
          "base_uri": "https://localhost:8080/"
        },
        "id": "bW5EV3eRXwK4",
        "outputId": "d23a825f-cd83-4570-b2bf-3d75f98a50f9"
      },
      "execution_count": 40,
      "outputs": [
        {
          "output_type": "stream",
          "name": "stdout",
          "text": [
            "[2 2 2 2]\n"
          ]
        }
      ]
    },
    {
      "cell_type": "code",
      "source": [
        "b**2"
      ],
      "metadata": {
        "colab": {
          "base_uri": "https://localhost:8080/"
        },
        "id": "Ak7zTUoZYBEh",
        "outputId": "294e7832-86b7-43da-d863-86db8bb2c24d"
      },
      "execution_count": 41,
      "outputs": [
        {
          "output_type": "execute_result",
          "data": {
            "text/plain": [
              "array([0, 1, 4, 9])"
            ]
          },
          "metadata": {},
          "execution_count": 41
        }
      ]
    },
    {
      "cell_type": "code",
      "source": [
        "10*np.sin(a)"
      ],
      "metadata": {
        "colab": {
          "base_uri": "https://localhost:8080/"
        },
        "id": "bzFmYWkyYFP1",
        "outputId": "cba89419-313b-42c0-fdee-d14748579bd5"
      },
      "execution_count": 42,
      "outputs": [
        {
          "output_type": "execute_result",
          "data": {
            "text/plain": [
              "array([ 9.09297427,  1.41120008, -7.56802495, -9.58924275])"
            ]
          },
          "metadata": {},
          "execution_count": 42
        }
      ]
    },
    {
      "cell_type": "code",
      "source": [
        "np.sin(a)"
      ],
      "metadata": {
        "colab": {
          "base_uri": "https://localhost:8080/"
        },
        "id": "PkoTcPzqYfI0",
        "outputId": "4a8e3971-d1aa-4c08-8922-3f911cb29495"
      },
      "execution_count": 43,
      "outputs": [
        {
          "output_type": "execute_result",
          "data": {
            "text/plain": [
              "array([ 0.90929743,  0.14112001, -0.7568025 , -0.95892427])"
            ]
          },
          "metadata": {},
          "execution_count": 43
        }
      ]
    },
    {
      "cell_type": "code",
      "source": [
        "a=np.array([2,3,4,5])\n",
        "a<4"
      ],
      "metadata": {
        "colab": {
          "base_uri": "https://localhost:8080/"
        },
        "id": "eCjwaoSuYhLJ",
        "outputId": "d57353d5-4ec7-4d1f-e29a-7d808a1b78d4"
      },
      "execution_count": 47,
      "outputs": [
        {
          "output_type": "execute_result",
          "data": {
            "text/plain": [
              "array([ True,  True, False, False])"
            ]
          },
          "metadata": {},
          "execution_count": 47
        }
      ]
    },
    {
      "cell_type": "markdown",
      "source": [
        "#product operator (* ,@, .dot())"
      ],
      "metadata": {
        "id": "HHiK7zdgZZxu"
      }
    },
    {
      "cell_type": "code",
      "source": [
        "A=np.array([[1,2],\n",
        "            [3,4]\n",
        "            ])\n",
        "B=np.array([[2,4],\n",
        "            [2,3]\n",
        "            ])\n"
      ],
      "metadata": {
        "id": "1cqtHK8PZlLt"
      },
      "execution_count": 49,
      "outputs": []
    },
    {
      "cell_type": "code",
      "source": [
        "#MATRIX PROD\n",
        "A@B\n"
      ],
      "metadata": {
        "colab": {
          "base_uri": "https://localhost:8080/"
        },
        "id": "j1AvehjNaBkW",
        "outputId": "59679c3b-b9bf-4356-80bc-4c8be2f35310"
      },
      "execution_count": 50,
      "outputs": [
        {
          "output_type": "execute_result",
          "data": {
            "text/plain": [
              "array([[ 6, 10],\n",
              "       [14, 24]])"
            ]
          },
          "metadata": {},
          "execution_count": 50
        }
      ]
    },
    {
      "cell_type": "code",
      "source": [
        "#ELEMENTWISE PROD\n",
        "A*B"
      ],
      "metadata": {
        "colab": {
          "base_uri": "https://localhost:8080/"
        },
        "id": "2Dcn3oxzaGOw",
        "outputId": "366df2ed-6561-473a-9bd1-c113039436ec"
      },
      "execution_count": 51,
      "outputs": [
        {
          "output_type": "execute_result",
          "data": {
            "text/plain": [
              "array([[ 2,  8],\n",
              "       [ 6, 12]])"
            ]
          },
          "metadata": {},
          "execution_count": 51
        }
      ]
    },
    {
      "cell_type": "code",
      "source": [
        "# MATRIX PROD\n",
        "#--> ebhabeo kora jabe\n",
        "A.dot(B)"
      ],
      "metadata": {
        "colab": {
          "base_uri": "https://localhost:8080/"
        },
        "id": "rKFgEgdCaLEH",
        "outputId": "64889d50-96fb-48cf-bd30-0e1d90c41346"
      },
      "execution_count": 53,
      "outputs": [
        {
          "output_type": "execute_result",
          "data": {
            "text/plain": [
              "array([[ 6, 10],\n",
              "       [14, 24]])"
            ]
          },
          "metadata": {},
          "execution_count": 53
        }
      ]
    },
    {
      "cell_type": "markdown",
      "source": [
        "*modify* an existing array rather than create a new one.\n",
        "\n"
      ],
      "metadata": {
        "id": "dneoUjqsaiF2"
      }
    },
    {
      "cell_type": "markdown",
      "source": [
        " most recent value of a will be **updated**"
      ],
      "metadata": {
        "id": "RdWNxc8Cd-dx"
      }
    },
    {
      "cell_type": "code",
      "source": [
        "rg=np.random.default_rng(1)\n",
        "#create instance of default random number generator\n",
        "a=np.ones((2,3), dtype=int)\n",
        "b=rg.random((2,3))\n",
        "a *= 3\n",
        "a\n"
      ],
      "metadata": {
        "colab": {
          "base_uri": "https://localhost:8080/"
        },
        "id": "Dgm0YE8San2o",
        "outputId": "5d5bd325-5855-49c4-8fc3-0921832f19f6"
      },
      "execution_count": 73,
      "outputs": [
        {
          "output_type": "execute_result",
          "data": {
            "text/plain": [
              "array([[3, 3, 3],\n",
              "       [3, 3, 3]])"
            ]
          },
          "metadata": {},
          "execution_count": 73
        }
      ]
    },
    {
      "cell_type": "code",
      "source": [
        "a += 4\n",
        "a\n"
      ],
      "metadata": {
        "colab": {
          "base_uri": "https://localhost:8080/"
        },
        "id": "QvWVzqkbc3_Z",
        "outputId": "967bd0ad-975d-47bf-c9d6-ca91e187a527"
      },
      "execution_count": 74,
      "outputs": [
        {
          "output_type": "execute_result",
          "data": {
            "text/plain": [
              "array([[7, 7, 7],\n",
              "       [7, 7, 7]])"
            ]
          },
          "metadata": {},
          "execution_count": 74
        }
      ]
    },
    {
      "cell_type": "code",
      "source": [
        "a*=2\n",
        "a"
      ],
      "metadata": {
        "colab": {
          "base_uri": "https://localhost:8080/"
        },
        "id": "sNExCOBad4cm",
        "outputId": "ad84bd16-d3b7-4549-f472-d8f33381783d"
      },
      "execution_count": 75,
      "outputs": [
        {
          "output_type": "execute_result",
          "data": {
            "text/plain": [
              "array([[14, 14, 14],\n",
              "       [14, 14, 14]])"
            ]
          },
          "metadata": {},
          "execution_count": 75
        }
      ]
    },
    {
      "cell_type": "code",
      "source": [
        "b+=a\n",
        "b"
      ],
      "metadata": {
        "colab": {
          "base_uri": "https://localhost:8080/"
        },
        "id": "la29yY8HeMDI",
        "outputId": "008e3ad5-17e3-4918-ca3f-56698d3e2f89"
      },
      "execution_count": 76,
      "outputs": [
        {
          "output_type": "execute_result",
          "data": {
            "text/plain": [
              "array([[14.51182162, 14.9504637 , 14.14415961],\n",
              "       [14.94864945, 14.31183145, 14.42332645]])"
            ]
          },
          "metadata": {},
          "execution_count": 76
        }
      ]
    },
    {
      "cell_type": "markdown",
      "source": [],
      "metadata": {
        "id": "g8-BF1-4ebAh"
      }
    },
    {
      "cell_type": "code",
      "source": [
        "#sorting arrays\n",
        "a=np.array([2,3,4,1,2,1,3])\n",
        "np.sort(a)\n"
      ],
      "metadata": {
        "colab": {
          "base_uri": "https://localhost:8080/"
        },
        "id": "8Ftl0A7lg8Ig",
        "outputId": "8b33e76e-16f2-4edc-dabc-655cb91ef1fe"
      },
      "execution_count": 77,
      "outputs": [
        {
          "output_type": "execute_result",
          "data": {
            "text/plain": [
              "array([1, 1, 2, 2, 3, 3, 4])"
            ]
          },
          "metadata": {},
          "execution_count": 77
        }
      ]
    },
    {
      "cell_type": "markdown",
      "source": [
        "# **vector stacking **"
      ],
      "metadata": {
        "id": "7F6wbtAdiInd"
      }
    },
    {
      "cell_type": "markdown",
      "source": [
        "How do we construct a 2D array from a list of equally-sized row vectors?\n",
        " In NumPy this works via the functions column_stack, dstack, hstack and vstack, depending on the dimension in which the stacking is to be done."
      ],
      "metadata": {
        "id": "--2fchxMm_fG"
      }
    },
    {
      "cell_type": "code",
      "source": [
        "x=np.array([2,3,4])\n",
        "y=np.array([4,5,6])\n",
        "\n",
        "\n"
      ],
      "metadata": {
        "id": "lnMWKnfkiNaS"
      },
      "execution_count": 82,
      "outputs": []
    },
    {
      "cell_type": "code",
      "source": [
        "m=np.vstack([x,y])\n",
        "print(m)"
      ],
      "metadata": {
        "colab": {
          "base_uri": "https://localhost:8080/"
        },
        "id": "vfKiNq-8nUTg",
        "outputId": "72b4742b-577f-4914-ae90-5960c3337955"
      },
      "execution_count": 81,
      "outputs": [
        {
          "output_type": "stream",
          "name": "stdout",
          "text": [
            "[[2 3 4]\n",
            " [4 5 6]]\n"
          ]
        }
      ]
    },
    {
      "cell_type": "code",
      "source": [
        "n=np.hstack([x,y])\n",
        "print(n)\n"
      ],
      "metadata": {
        "colab": {
          "base_uri": "https://localhost:8080/"
        },
        "id": "6_UJSSRpnXVI",
        "outputId": "689b61e0-baf0-4b1d-eff8-1bb1baba79d1"
      },
      "execution_count": 83,
      "outputs": [
        {
          "output_type": "stream",
          "name": "stdout",
          "text": [
            "[2 3 4 4 5 6]\n"
          ]
        }
      ]
    },
    {
      "cell_type": "markdown",
      "source": [
        "*Array Creation*\n",
        "\n",
        "arange, array, copy, empty, empty_like, eye, fromfile, fromfunction, identity, linspace, logspace, mgrid, ogrid, ones, ones_like, r_, zeros, zeros_like"
      ],
      "metadata": {
        "id": "jwZGO8UpoA3w"
      }
    },
    {
      "cell_type": "markdown",
      "source": [
        "*Conversions*\n",
        "\n",
        "ndarray.astype, atleast_1d, atleast_2d, atleast_3d, mat"
      ],
      "metadata": {
        "id": "YfB0hSZZoCZs"
      }
    },
    {
      "cell_type": "markdown",
      "source": [
        "*Manipulations*\n",
        "\n",
        "array_split, column_stack, concatenate, diagonal, dsplit, dstack, hsplit, hstack, ndarray.item, newaxis, ravel, repeat, reshape, resize, squeeze, swapaxes, take, transpose, vsplit,\n",
        "vstack"
      ],
      "metadata": {
        "id": "Ng5RjRngoNEC"
      }
    },
    {
      "cell_type": "markdown",
      "source": [
        "for more , check the link below\n",
        "https://numpy.org/devdocs/user/quickstart.html\n"
      ],
      "metadata": {
        "id": "PVro6WAqofhD"
      }
    },
    {
      "cell_type": "code",
      "source": [],
      "metadata": {
        "id": "qzSRAWJvoE3b"
      },
      "execution_count": null,
      "outputs": []
    },
    {
      "cell_type": "code",
      "source": [],
      "metadata": {
        "id": "moNVaLDLnZsA"
      },
      "execution_count": null,
      "outputs": []
    }
  ]
}