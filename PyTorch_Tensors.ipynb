{
  "nbformat": 4,
  "nbformat_minor": 0,
  "metadata": {
    "colab": {
      "provenance": [],
      "authorship_tag": "ABX9TyN5nVZ43Dsi/GOXNVRDvyr5",
      "include_colab_link": true
    },
    "kernelspec": {
      "name": "python3",
      "display_name": "Python 3"
    },
    "language_info": {
      "name": "python"
    }
  },
  "cells": [
    {
      "cell_type": "markdown",
      "metadata": {
        "id": "view-in-github",
        "colab_type": "text"
      },
      "source": [
        "<a href=\"https://colab.research.google.com/github/zakiapranti/Machine_Learning/blob/main/PyTorch_Tensors.ipynb\" target=\"_parent\"><img src=\"https://colab.research.google.com/assets/colab-badge.svg\" alt=\"Open In Colab\"/></a>"
      ]
    },
    {
      "cell_type": "code",
      "execution_count": 1,
      "metadata": {
        "id": "6oUgzUGdgM6k"
      },
      "outputs": [],
      "source": [
        "import torch\n",
        "import math"
      ]
    },
    {
      "cell_type": "code",
      "source": [
        "dtype=torch.float\n",
        "device= torch.device(\"cpu\")\n",
        "#device=torch.device(\"cuda:0\")# uncomment this line to  run on gpu\n"
      ],
      "metadata": {
        "id": "aDgxeCtJkN2F"
      },
      "execution_count": 3,
      "outputs": []
    },
    {
      "cell_type": "markdown",
      "source": [
        "create random input and output data"
      ],
      "metadata": {
        "id": "awdiork5kmXI"
      }
    },
    {
      "cell_type": "code",
      "source": [
        "x=torch.linspace(-math.pi, math.pi, 2000,device=device, dtype=dtype)\n",
        "# device = device (2nd device means variable name )\n",
        "#dtype=dtype (2nd dtype meanns variable)\n",
        "y=torch.sin(x)"
      ],
      "metadata": {
        "id": "fniKIWh8kqJ2"
      },
      "execution_count": 4,
      "outputs": []
    },
    {
      "cell_type": "markdown",
      "source": [
        "randomly initialize weights"
      ],
      "metadata": {
        "id": "1nOWmVlflV9K"
      }
    },
    {
      "cell_type": "code",
      "source": [
        "a=torch.randn((),device=device, dtype=dtype)\n",
        "b=torch.randn((),device=device, dtype=dtype)\n",
        "c=torch.randn((),device=device, dtype=dtype)\n",
        "d=torch.randn((),device=device, dtype=dtype)\n",
        "#e=torch.randn((),device=device, dtype=dtype)"
      ],
      "metadata": {
        "id": "L1b0p3AjlZw4"
      },
      "execution_count": 6,
      "outputs": []
    },
    {
      "cell_type": "code",
      "source": [
        "learning_rate=1e-6\n",
        "for t in range(2000):\n",
        "  #forward pass: compute predicted y\n",
        "  y_pred=a+b*x+c*x**2+d*x**3"
      ],
      "metadata": {
        "id": "Ou7Xq-holvH6"
      },
      "execution_count": 7,
      "outputs": []
    },
    {
      "cell_type": "code",
      "source": [
        "#compute and print loss\n",
        "loss=(y_pred -y).pow(2).sum().item()\n",
        "if t%100==99:\n",
        "  print(t,loss)"
      ],
      "metadata": {
        "colab": {
          "base_uri": "https://localhost:8080/"
        },
        "id": "vB8E-uqHmLrz",
        "outputId": "85dbe5f0-d60f-4a57-b9e0-3e2c645ba395"
      },
      "execution_count": 9,
      "outputs": [
        {
          "output_type": "stream",
          "name": "stdout",
          "text": [
            "1999 94408.515625\n"
          ]
        }
      ]
    },
    {
      "cell_type": "code",
      "source": [
        "#backprop to compute gradients of a, b,c,d wrt loss\n",
        "grad_y_pred=2.0*(y_pred-y)\n",
        "grad_a=grad_y_pred.sum()\n",
        "grad_b=(grad_y_pred*x).sum()\n",
        "grad_c=(grad_y_pred*x**2).sum()\n",
        "grad_d=(grad_y_pred*x**3).sum()\n"
      ],
      "metadata": {
        "id": "PQLhJeafonAB"
      },
      "execution_count": 11,
      "outputs": []
    },
    {
      "cell_type": "code",
      "source": [
        "#update weights using gradient descent\n",
        "a-= learning_rate*grad_a\n",
        "b-= learning_rate*grad_b\n",
        "c-= learning_rate*grad_c\n",
        "d-= learning_rate*grad_d\n",
        "print(f'Result: y={a.item()}+{b.item()} x +{c.item()} x^2 + {d.item()} x^3')"
      ],
      "metadata": {
        "colab": {
          "base_uri": "https://localhost:8080/"
        },
        "id": "m_900-5jpRrz",
        "outputId": "1b428443-0e4c-47b4-d017-efcc60e91105"
      },
      "execution_count": 12,
      "outputs": [
        {
          "output_type": "stream",
          "name": "stdout",
          "text": [
            "Result: y=0.6479554176330566+0.26702407002449036 x +0.13210099935531616 x^2 + 0.24209746718406677 x^3\n"
          ]
        }
      ]
    }
  ]
}